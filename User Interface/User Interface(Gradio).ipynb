{
 "cells": [
  {
   "cell_type": "markdown",
   "id": "704e0f8b",
   "metadata": {},
   "source": [
    "# User Interface using Gradio"
   ]
  },
  {
   "cell_type": "code",
   "execution_count": 1,
   "id": "28c5a358",
   "metadata": {},
   "outputs": [],
   "source": [
    "#!pip install gradio\n",
    "#!pip install joblib"
   ]
  },
  {
   "cell_type": "code",
   "execution_count": 7,
   "id": "2dcc37c9",
   "metadata": {},
   "outputs": [],
   "source": [
    "import gradio as gr\n",
    "import joblib"
   ]
  },
  {
   "cell_type": "code",
   "execution_count": 8,
   "id": "c7c58515",
   "metadata": {},
   "outputs": [],
   "source": [
    "import warnings\n",
    "warnings.filterwarnings('ignore')"
   ]
  },
  {
   "cell_type": "code",
   "execution_count": 9,
   "id": "34d4c290",
   "metadata": {},
   "outputs": [],
   "source": [
    "# load models and transformer\n",
    "#scaler = joblib.load(\"minmax_scaler.joblib\")\n",
    "ct = joblib.load(\"col_transformer.joblib\")\n",
    "linear_regressor = joblib.load(\"linear_regressor.joblib\")\n",
    "rf_regressor = joblib.load(\"rf_regressor.joblib\")"
   ]
  },
  {
   "cell_type": "code",
   "execution_count": 10,
   "id": "264d83f7",
   "metadata": {},
   "outputs": [],
   "source": [
    "def predict(R_and_D_Spending,\tAdministration,\tMarketing_spending,\tState, model = \"Randomforest Regressor\"):\n",
    "    rdspending = int(R_and_D_Spending)\n",
    "    admin = int(Administration)\n",
    "    mspending = int(Marketing_spending)\n",
    "    s = State\n",
    "\n",
    "    inputs = ct.transform([[rdspending, admin, mspending, s]])\n",
    "    print(inputs)\n",
    "\n",
    "    if model == \"Randomforest Regressor\":\n",
    "        print(\"Using Randomforest Regression\")\n",
    "        model = rf_regressor\n",
    "    else:\n",
    "        print(\"Using Linear Regression\")\n",
    "        model = linear_regressor\n",
    "    output = model.predict(inputs)\n",
    "\n",
    "    return output\n"
   ]
  },
  {
   "cell_type": "code",
   "execution_count": 11,
   "id": "0e111547",
   "metadata": {},
   "outputs": [
    {
     "name": "stdout",
     "output_type": "stream",
     "text": [
      "Running on local URL:  http://127.0.0.1:7861\n",
      "Running on public URL: https://20ad9d40e8daeb54fb.gradio.live\n",
      "\n",
      "This share link expires in 72 hours. For free permanent hosting and GPU upgrades, run `gradio deploy` from Terminal to deploy to Spaces (https://huggingface.co/spaces)\n"
     ]
    },
    {
     "data": {
      "text/html": [
       "<div><iframe src=\"https://20ad9d40e8daeb54fb.gradio.live\" width=\"100%\" height=\"500\" allow=\"autoplay; camera; microphone; clipboard-read; clipboard-write;\" frameborder=\"0\" allowfullscreen></iframe></div>"
      ],
      "text/plain": [
       "<IPython.core.display.HTML object>"
      ]
     },
     "metadata": {},
     "output_type": "display_data"
    }
   ],
   "source": [
    "demo = gr.Interface(\n",
    "    title=\"Profit Prediction\",\n",
    "    fn=predict,\n",
    "    inputs=[gr.Text(label='R_and_D_Spending'),\n",
    "            gr.Text(label='Administration'),\n",
    "            gr.Text(label='Marketing_spending'),\n",
    "            gr.Dropdown(['New York', 'California', 'Florida']),\n",
    "            gr.Dropdown([\"Randomforest Regressor\", \"LInear Regrssor\"])],\n",
    "    outputs=\"number\")\n",
    "\n",
    "\n",
    "\n",
    "if __name__ == \"__main__\":\n",
    "    demo.launch(share=True)"
   ]
  },
  {
   "cell_type": "code",
   "execution_count": null,
   "id": "66be40f0",
   "metadata": {},
   "outputs": [],
   "source": []
  },
  {
   "cell_type": "code",
   "execution_count": null,
   "id": "fcda7651",
   "metadata": {},
   "outputs": [],
   "source": []
  }
 ],
 "metadata": {
  "kernelspec": {
   "display_name": "Python 3 (ipykernel)",
   "language": "python",
   "name": "python3"
  },
  "language_info": {
   "codemirror_mode": {
    "name": "ipython",
    "version": 3
   },
   "file_extension": ".py",
   "mimetype": "text/x-python",
   "name": "python",
   "nbconvert_exporter": "python",
   "pygments_lexer": "ipython3",
   "version": "3.9.13"
  }
 },
 "nbformat": 4,
 "nbformat_minor": 5
}
